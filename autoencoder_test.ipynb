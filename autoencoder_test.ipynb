{
 "cells": [
  {
   "cell_type": "code",
   "execution_count": 1,
   "id": "27274e07-00d6-40c7-b3ed-fb6ab52bb1e4",
   "metadata": {
    "tags": []
   },
   "outputs": [],
   "source": [
    "import numpy as np\n",
    "\n",
    "import torch\n",
    "import torch.nn as nn\n",
    "import torch.utils.data as data_utils\n",
    "import torchvision\n",
    "import torchvision.transforms as transforms\n",
    "\n",
    "import matplotlib.pyplot as plt\n",
    "\n",
    "#from accelerate import Accelerator"
   ]
  },
  {
   "cell_type": "code",
   "execution_count": 2,
   "id": "9f2869aa-7c43-4887-9602-9669298652fd",
   "metadata": {
    "tags": []
   },
   "outputs": [],
   "source": [
    "from permutedMNIST import PermutedMNIST"
   ]
  },
  {
   "cell_type": "code",
   "execution_count": 3,
   "id": "38e90edf-9272-4487-939d-4ed54cd82f85",
   "metadata": {
    "tags": []
   },
   "outputs": [],
   "source": [
    "class Net(nn.Module):\n",
    "    def __init__(self, input_dims, code_dims):\n",
    "        super(Net, self).__init__()\n",
    "        self.input_dims = input_dims\n",
    "        self.code_dims = code_dims\n",
    "        \n",
    "        self.encoder = nn.Sequential(\n",
    "            nn.Linear(input_dims, code_dims),\n",
    "            nn.ReLU()\n",
    "        )\n",
    "        self.decoder = nn.Sequential(\n",
    "            nn.Linear(code_dims, input_dims),\n",
    "            nn.Sigmoid()\n",
    "        )\n",
    "        \n",
    "    def forward(self, x):\n",
    "        x = x.view(-1, self.input_dims)\n",
    "        encoded_x = self.encoder(x)\n",
    "        reconstructed_x = self.decoder(encoded_x)\n",
    "        return reconstructed_x"
   ]
  },
  {
   "cell_type": "code",
   "execution_count": 20,
   "id": "62a8451c-5640-4d1a-a0e6-b8a89c957a08",
   "metadata": {
    "tags": []
   },
   "outputs": [],
   "source": [
    "class Autoencoder():\n",
    "    def __init__(self, input_dims, code_dims, lr=0.001):\n",
    "        super(Autoencoder, self).__init__()\n",
    "        self.device = torch.device('cuda' if torch.cuda.is_available() else 'cpu')\n",
    "        self.net = Net(input_dims, code_dims).to(self.device)\n",
    "        self.optimizer = torch.optim.Adam(self.net.parameters(), lr)\n",
    "        \n",
    "        #self.criterion = torch.nn.BCELoss()\n",
    "        self.criterion = torch.nn.MSELoss()\n",
    "        self.unreduced_criterion = torch.nn.MSELoss(reduction = 'none')\n",
    "        \n",
    "        self.input_dims = input_dims\n",
    "        self.size = 0\n",
    "        self.mean = 0\n",
    "        self.var = 0\n",
    "        self.std = 0\n",
    "        \n",
    "    def optimize_params(self, x, label):\n",
    "        x = x.to(self.device).reshape(-1, self.input_dims)\n",
    "        label = label.to(self.device).reshape(-1, self.input_dims)\n",
    "        y = self._forward(x)\n",
    "        \n",
    "        self._update_params(y, label)\n",
    "        self.update_statistics(y, label)\n",
    "\n",
    "    def _forward(self, x):\n",
    "        return self.net(x)\n",
    "\n",
    "    def _backward(self, y, label):\n",
    "        self.loss = self.criterion(y, label)\n",
    "        self.loss.backward()\n",
    "        #self.accelerator.backward(self.loss)\n",
    "\n",
    "    def _update_params(self, y, label):\n",
    "        self.optimizer.zero_grad()\n",
    "        self._backward(y, label)\n",
    "        self.optimizer.step()\n",
    "        #self.scheduler.step()  # scheduler step in each iteration\n",
    "        \n",
    "    def update_statistics(self, y, label):\n",
    "        #https://math.stackexchange.com/questions/3604607/can-i-work-out-the-variance-in-batches\n",
    "        with torch.no_grad():\n",
    "            #calculate batchwise loss\n",
    "            new_element_loss = self.unreduced_criterion(y, label)\n",
    "            new_loss = torch.mean(new_element_loss, axis=1)\n",
    "            \n",
    "            #calculate mean, var and batch size\n",
    "            new_mean = torch.mean(new_loss).item()\n",
    "            new_var = torch.var(new_loss).item()\n",
    "            new_size = y.shape[0]\n",
    "            #print(new_mean, new_var, new_size)\n",
    "            \n",
    "            #updating variance\n",
    "            part1 = ((self.size - 1)*self.var + (new_size - 1)*new_var)/(self.size + new_size - 1)\n",
    "            part2 = ((self.size*new_size)*np.square((self.mean - new_mean)))/((self.size + new_size)*(self.size+new_size - 1))\n",
    "            self.var = part1 + part2\n",
    "            \n",
    "            #updating std\n",
    "            self.std = np.sqrt(self.var)\n",
    "            #print(self.std)\n",
    "            \n",
    "            #updating mean\n",
    "            new_sum = torch.sum(new_loss).item()\n",
    "            self.mean = (self.size*self.mean + new_sum)/(self.size + new_size)\n",
    "            \n",
    "            #updating size\n",
    "            self.size += new_size\n",
    "            \n",
    "    def get_reduced_loss(self, y, label):\n",
    "        with torch.no_grad():\n",
    "            y = y.to(self.device).reshape(-1, self.input_dims)\n",
    "            label = label.to(self.device).reshape(-1, self.input_dims)\n",
    "            return self.criterion(y, label).item()\n",
    "    \n",
    "    def get_unreduced_loss(self, y, label):\n",
    "        with torch.no_grad():\n",
    "            y = y.to(self.device).reshape(-1, self.input_dims)\n",
    "            label = label.to(self.device).reshape(-1, self.input_dims)\n",
    "            return self.unreduced_criterion(y, label)\n",
    "    \n",
    "    def get_prediction(self, x):\n",
    "        with torch.no_grad():\n",
    "            return self._forward(x.to(self.device))"
   ]
  },
  {
   "cell_type": "code",
   "execution_count": 41,
   "id": "f7ef606b-24ef-4cca-88a9-4cea7d47034e",
   "metadata": {
    "tags": []
   },
   "outputs": [],
   "source": [
    "#MNIST_trainingdata = torchvision.datasets.MNIST('./MNIST/',train=True,download=True,transform=torchvision.transforms.ToTensor())\n",
    "#MNIST_testdata = torchvision.datasets.MNIST('./MNIST/',train=False,download=True,transform=torchvision.transforms.ToTensor())\n",
    "\n",
    "#setup dataloader\n",
    "#MNIST_train_loader = torch.utils.data.DataLoader(MNIST_trainingdata,batch_size=64,shuffle=True)\n",
    "#MNIST_test_loader = torch.utils.data.DataLoader(MNIST_testdata,batch_size=64,shuffle=False)"
   ]
  },
  {
   "cell_type": "code",
   "execution_count": 42,
   "id": "5c25a214-410f-4bcf-a7d8-14f55ba781b4",
   "metadata": {
    "tags": []
   },
   "outputs": [],
   "source": [
    "#CIFAR_transforms = transforms.Compose([transforms.Resize((28, 28)),transforms.Grayscale(),transforms.ToTensor()])\n",
    "\n",
    "#CIFAR_trainingdata = torchvision.datasets.CIFAR10('./CIFAR/',train=True,download=True,transform=CIFAR_transforms)\n",
    "#CIFAR_testdata = torchvision.datasets.CIFAR10('./CIFAR/',train=False,download=True,transform=CIFAR_transforms)\n",
    "\n",
    "#setup dataloader\n",
    "#CIFAR_train_loader = torch.utils.data.DataLoader(CIFAR_trainingdata,batch_size=64,shuffle=True)\n",
    "#CIFAR_test_loader = torch.utils.data.DataLoader(CIFAR_testdata,batch_size=64,shuffle=False)"
   ]
  },
  {
   "cell_type": "code",
   "execution_count": 22,
   "id": "966cc02a-f169-4b0d-9a59-136176e46e01",
   "metadata": {
    "tags": []
   },
   "outputs": [],
   "source": [
    "def train_autoencoder(train_loader, test_loader, model):\n",
    "    train_losses = []\n",
    "    test_losses = []\n",
    "\n",
    "    for epoch in range(5): # We'll train for 5 \"epochs\"\n",
    "        train_loss = 0\n",
    "        test_loss = 0\n",
    "\n",
    "        # Evaluation process\n",
    "        for i, data in enumerate(test_loader):\n",
    "            images, _, _ = data # Unpack the data into the images and labels\n",
    "            predicted_output = model.get_prediction(images) # Apply our network to the images\n",
    "            test_loss += model.get_reduced_loss(predicted_output, images) # Add the fit to the loss for tracking purposes\n",
    "\n",
    "        # Training process\n",
    "        for i, data in enumerate(train_loader):\n",
    "            images, _, _ = data # Unpack the data into the images and labels\n",
    "            model.optimize_params(images, images)\n",
    "            train_loss += model.loss.item()\n",
    "            \n",
    "        # Add the current losses to our tracking lists\n",
    "        train_losses += [train_loss/len(train_loader)]\n",
    "        test_losses += [test_loss/len(test_loader)]\n",
    "\n",
    "        # Print the current loss\n",
    "        print(f'Epoch {epoch}, Train loss {train_loss}, Test loss {test_loss}')\n",
    "        \n",
    "    return model"
   ]
  },
  {
   "cell_type": "code",
   "execution_count": 6,
   "id": "bd9fd711-f7f9-49a4-bb65-1c90e0be7a28",
   "metadata": {
    "tags": []
   },
   "outputs": [],
   "source": [
    "#MNIST_model = Autoencoder(input_dims=28*28, code_dims=500)\n",
    "#CIFAR_model = Autoencoder(input_dims=28*28, code_dims=500)"
   ]
  },
  {
   "cell_type": "code",
   "execution_count": 7,
   "id": "82a73623-26ee-4d68-824d-460446449097",
   "metadata": {
    "tags": []
   },
   "outputs": [],
   "source": [
    "#MNIST_model = train_autoencoder(MNIST_train_loader, MNIST_test_loader, MNIST_model)\n",
    "#CIFAR_model = train_autoencoder(CIFAR_train_loader, CIFAR_test_loader, CIFAR_model)"
   ]
  },
  {
   "cell_type": "code",
   "execution_count": 8,
   "id": "216f8e0e-c194-4756-92a3-f5a1f8f2da62",
   "metadata": {
    "tags": []
   },
   "outputs": [],
   "source": [
    "def visulize_test_autoencoder(test_loader, models):\n",
    "    images, _ = next(iter(test_loader))\n",
    "    image = images[np.random.randint(0, len(images))]\n",
    "\n",
    "    show_image = image.cpu().detach().numpy().reshape((28,28))\n",
    "    plt.imshow(show_image) # Plot the 28x28 image\n",
    "    plt.show()\n",
    "    \n",
    "    for _, model in models.items():\n",
    "        model_output = model.get_prediction(image)\n",
    "        show_output = model_output[0].cpu().detach().numpy().reshape((28,28))\n",
    "        #plt.imshow(show_output) # Plot the 28x28 image\n",
    "        #plt.show()\n",
    "        \n",
    "        print(\"MNIST loss:\", model.get_reduced_loss(model_output, image))"
   ]
  },
  {
   "cell_type": "code",
   "execution_count": 9,
   "id": "58d5644c-32a5-4b62-bc4c-e92b0363c32e",
   "metadata": {
    "tags": []
   },
   "outputs": [],
   "source": [
    "#visulize_test_autoencoder(MNIST_test_loader, [MNIST_model, CIFAR_model])"
   ]
  },
  {
   "cell_type": "code",
   "execution_count": 10,
   "id": "483361c0-e39a-4dd8-87fc-dfc67929f0a1",
   "metadata": {
    "tags": []
   },
   "outputs": [],
   "source": [
    "#visulize_test_autoencoder(CIFAR_test_loader, [MNIST_model, CIFAR_model])"
   ]
  },
  {
   "cell_type": "code",
   "execution_count": 11,
   "id": "7a572b03-e58d-41c0-a2d3-15f17e66a8c9",
   "metadata": {},
   "outputs": [],
   "source": [
    "def get_permute_mnist(num_task, batch_size, random_seed):\n",
    "    train_loader = {}\n",
    "    test_loader = {}\n",
    "    np.random.seed(random_seed)\n",
    "    idx = list(range(28 * 28))\n",
    "    for i in range(num_task):\n",
    "        train_loader[i] = torch.utils.data.DataLoader(PermutedMNIST(train=True, permute_idx=idx, task_num = i),\n",
    "                                                      batch_size=batch_size,\n",
    "                                                      num_workers=4)\n",
    "        test_loader[i] = torch.utils.data.DataLoader(PermutedMNIST(train=False, permute_idx=idx, task_num = i),\n",
    "                                                     batch_size=batch_size)\n",
    "        np.random.shuffle(idx)\n",
    "    return train_loader, test_loader"
   ]
  },
  {
   "cell_type": "code",
   "execution_count": 12,
   "id": "ccceaa3e-f1c8-4abe-8e76-81c2e49ee2d8",
   "metadata": {},
   "outputs": [],
   "source": [
    "NUM_TASK=20\n",
    "BATCH_SIZE=600\n",
    "RANDOM_SEED=42"
   ]
  },
  {
   "cell_type": "code",
   "execution_count": 13,
   "id": "099521a8-8861-4261-a999-41ec53d87e25",
   "metadata": {
    "tags": []
   },
   "outputs": [
    {
     "name": "stderr",
     "output_type": "stream",
     "text": [
      "C:\\Program Files\\anaconda3\\lib\\site-packages\\torchvision\\datasets\\mnist.py:75: UserWarning: train_data has been renamed data\n",
      "  warnings.warn(\"train_data has been renamed data\")\n",
      "C:\\Program Files\\anaconda3\\lib\\site-packages\\torchvision\\datasets\\mnist.py:80: UserWarning: test_data has been renamed data\n",
      "  warnings.warn(\"test_data has been renamed data\")\n"
     ]
    }
   ],
   "source": [
    "permute_train_loaders, permute_test_loaders = get_permute_mnist(NUM_TASK, BATCH_SIZE, RANDOM_SEED)"
   ]
  },
  {
   "cell_type": "code",
   "execution_count": 14,
   "id": "c68f7879-3c85-4e01-8371-2b94e2c8df5b",
   "metadata": {
    "tags": []
   },
   "outputs": [
    {
     "data": {
      "image/png": "[encoded data removed]",
      "text/plain": [
       "<Figure size 640x480 with 1 Axes>"
      ]
     },
     "metadata": {},
     "output_type": "display_data"
    }
   ],
   "source": [
    "images, labels, index = next(iter(permute_train_loaders[1]))\n",
    "image = images[0].cpu().detach().numpy().reshape((28,28))\n",
    "plt.imshow(image) # Plot the 28x28 image\n",
    "plt.show()"
   ]
  },
  {
   "cell_type": "code",
   "execution_count": 23,
   "id": "46b6cb42-f057-4668-99fd-f715cbf8239a",
   "metadata": {
    "tags": []
   },
   "outputs": [
    {
     "name": "stdout",
     "output_type": "stream",
     "text": [
      "Epoch 0, Train loss 6.924171455204487, Test loss 3.943579003214836\n",
      "Epoch 1, Train loss 3.239029537886381, Test loss 0.6835575178265572\n",
      "Epoch 2, Train loss 2.207655917853117, Test loss 0.43445930629968643\n",
      "Epoch 3, Train loss 1.6396753462031484, Test loss 0.3139985781162977\n",
      "Epoch 4, Train loss 1.2672805869951844, Test loss 0.2438466539606452\n",
      "Epoch 0, Train loss 6.858460795134306, Test loss 3.93233759701252\n",
      "Epoch 1, Train loss 3.2275188229978085, Test loss 0.6714719831943512\n",
      "Epoch 2, Train loss 2.2341847997158766, Test loss 0.4369999635964632\n",
      "Epoch 3, Train loss 1.6688537104055285, Test loss 0.31980495899915695\n",
      "Epoch 4, Train loss 1.2938870340585709, Test loss 0.2472309973090887\n",
      "Epoch 0, Train loss 6.86918618157506, Test loss 3.9433748722076416\n",
      "Epoch 1, Train loss 3.2440181393176317, Test loss 0.6766751557588577\n",
      "Epoch 2, Train loss 2.1801779698580503, Test loss 0.43380219116806984\n",
      "Epoch 3, Train loss 1.5980450212955475, Test loss 0.30859414488077164\n",
      "Epoch 4, Train loss 1.2448749160394073, Test loss 0.23838997539132833\n"
     ]
    }
   ],
   "source": [
    "autoencoders = {}\n",
    "\n",
    "for i in range(NUM_TASK):\n",
    "    if(i>2):\n",
    "        break\n",
    "    autoencoders[i] = train_autoencoder(permute_train_loaders[i], permute_test_loaders[i], Autoencoder(input_dims=28*28, code_dims=250))\n"
   ]
  },
  {
   "cell_type": "code",
   "execution_count": 73,
   "id": "66d2d98f-d7d9-4f09-882b-dbfef3b41c54",
   "metadata": {
    "tags": []
   },
   "outputs": [],
   "source": [
    "#losses = [0]*NUM_TASK\n",
    "#for i in range(NUM_TASK):\n",
    "#    visulize_test_autoencoder(permute_test_loaders[i], autoencoders)"
   ]
  },
  {
   "cell_type": "code",
   "execution_count": 74,
   "id": "d1d69220-5d23-44cc-929a-b3a896548a05",
   "metadata": {
    "tags": []
   },
   "outputs": [],
   "source": [
    "#for _, model in autoencoders.items():\n",
    "#    print(model.mean - 3 * model.std, model.mean + 3 * model.std)"
   ]
  },
  {
   "cell_type": "code",
   "execution_count": 76,
   "id": "34f91dff-9550-4d35-b0e1-9da48ce067d4",
   "metadata": {
    "tags": []
   },
   "outputs": [
    {
     "name": "stdout",
     "output_type": "stream",
     "text": [
      "tensor([-0.0343], device='cuda:0') tensor([0.0491], device='cuda:0')\n"
     ]
    }
   ],
   "source": [
    "model = autoencoders[0]\n",
    "print(model.mean - 3 * model.std, model.mean + 3 * model.std)\n",
    "images, labels, _ = next(iter(permute_train_loaders[0]))\n",
    "model_outputs = model.get_prediction(images)\n",
    "unreduced_loss = model.get_unreduced_loss(model_outputs, images)"
   ]
  },
  {
   "cell_type": "code",
   "execution_count": 77,
   "id": "2323f2e6-ccd8-4b5e-9cf0-a83e3c292802",
   "metadata": {
    "tags": []
   },
   "outputs": [
    {
     "data": {
      "text/plain": [
       "60"
      ]
     },
     "execution_count": 77,
     "metadata": {},
     "output_type": "execute_result"
    }
   ],
   "source": [
    "element_mean = torch.mean(unreduced_loss, axis=1)\n",
    "element_mean\n",
    "mean = torch.mean(element_mean)\n",
    "mean\n",
    "x = [item>model.mean - 3 * model.std and item<model.mean + 3 * model.std for item in element_mean]\n",
    "sumX = sum(x)\n",
    "sumX.item()"
   ]
  },
  {
   "cell_type": "code",
   "execution_count": 79,
   "id": "0b1c7039-2ef0-4bd0-82fa-54fcb67e7d4c",
   "metadata": {},
   "outputs": [
    {
     "name": "stdout",
     "output_type": "stream",
     "text": [
      "0, 1000\n"
     ]
    }
   ],
   "source": [
    "index=1\n",
    "\n",
    "losses = [0]*len(autoencoders)\n",
    "passes=0\n",
    "errors=0\n",
    "for _, data in enumerate(permute_train_loaders[index]):\n",
    "    images, labels, _ = data\n",
    "    for i in range(len(autoencoders)):\n",
    "        model = autoencoders[i]\n",
    "        model_outputs = model.get_prediction(images)\n",
    "        losses[i] = model.get_reduced_loss(model_outputs, images)\n",
    "    if(np.argmin(losses)==index):\n",
    "        passes+=1\n",
    "    else:\n",
    "        errors+=1\n",
    "        print(losses)\n",
    "print(f\"{errors}, {passes}\")"
   ]
  },
  {
   "cell_type": "code",
   "execution_count": 112,
   "id": "c40eda4f-8a3a-4db9-bbe4-4ebeb70f6a73",
   "metadata": {
    "tags": []
   },
   "outputs": [],
   "source": [
    "def find_relatedness(reconstruction_error_autoencoder, reconstruction_error_data):\n",
    "    with torch.no_grad():\n",
    "        return torch.abs((reconstruction_error_autoencoder - reconstruction_error_data)/reconstruction_error_autoencoder)"
   ]
  },
  {
   "cell_type": "code",
   "execution_count": 9,
   "id": "930846a3-d538-4c93-83b4-d50863c80dd4",
   "metadata": {},
   "outputs": [],
   "source": [
    "def find_best_autoencoders(batchwise_data, autoencoders):\n",
    "    with torch.no_grad():\n",
    "        minimum_relatedness = float(\"inf\")\n",
    "        best_index=-1\n",
    "        for index, autoencoder in autoencoders.items():\n",
    "            prediction = autoencoder.get_prediction(batchwise_data)\n",
    "            reconstruction_error_data = autoencoder.get_reduced_loss(prediction, batchwise_data)\n",
    "            reconstruction_error_autoencoder = autoencoder.mean\n",
    "            relatedness = find_relatedness(reconstruction_error_autoencoder, reconstruction_error_data)\n",
    "            if relatedness.item()<minimum_relatedness:\n",
    "                minimum_relatedness=relatedness\n",
    "                best_index = index\n",
    "        return best_index\n"
   ]
  },
  {
   "cell_type": "code",
   "execution_count": 10,
   "id": "fea62b19-edaa-4afa-8373-977879828760",
   "metadata": {
    "tags": []
   },
   "outputs": [],
   "source": [
    "import random\n",
    "\n",
    "def get_conbined_permute_mnist(num_task, batch_size, random_seed):\n",
    "    datasets = {}\n",
    "    np.random.seed(random_seed)\n",
    "    idx = list(range(28 * 28))\n",
    "    for i in range(num_task):\n",
    "        datasets[i] = PermutedMNIST(train=True, permute_idx=idx, task_num=i)\n",
    "        np.random.shuffle(idx)\n",
    "    dataset = torch.utils.data.ConcatDataset([x for _,x in datasets.items()])\n",
    "    dataloader = torch.utils.data.DataLoader(dataset,\n",
    "                                                  batch_size=batch_size,\n",
    "                                                  shuffle = False,\n",
    "                                                  num_workers = 4)\n",
    "    \n",
    "    return random.sample(list(dataloader), len(dataloader))"
   ]
  },
  {
   "cell_type": "code",
   "execution_count": 20,
   "id": "82aaf110-a376-4506-b83d-f7616c7be497",
   "metadata": {
    "tags": []
   },
   "outputs": [],
   "source": [
    "def find_num_of_outliers(batchwise_data, model):\n",
    "    with torch.no_grad():\n",
    "        model_outputs = model.get_prediction(batchwise_data)\n",
    "        unreduced_loss = model.get_unreduced_loss(model_outputs, batchwise_data)\n",
    "        element_mean = torch.mean(unreduced_loss, axis=1)\n",
    "        outliers = batchwise_data.shape[0] - sum([item>model.mean - 3 * model.std and item<model.mean + 3 * model.std for item in element_mean]).item()\n",
    "        return outliers\n"
   ]
  },
  {
   "cell_type": "code",
   "execution_count": null,
   "id": "70799744-7723-405d-af99-d5e5503c51c6",
   "metadata": {
    "tags": []
   },
   "outputs": [],
   "source": [
    "auto_list = {}\n",
    "expert_list = {}\n",
    "\n",
    "outlier_threshold = 0.3*BATCH_SIZE\n",
    "\n",
    "for _, data in enumerate(permute_train_loaders[0]):\n",
    "    images, labels, index = data\n",
    "    \n",
    "    if len(auto_list)==0:\n",
    "        best_autoencoder = Autoencoder(input_dims=28*28, code_dims=300)\n",
    "        for epoch in range(500):\n",
    "            best_autoencoder.optimize_params(images, images)\n",
    "        auto_list[len(auto_list)] = best_autoencoder\n",
    "        #to-do add initial expert\n",
    "        continue\n",
    "        \n",
    "    best_index = find_best_autoencoders(images, auto_list)\n",
    "    best_autoencoder = auto_list[best_index]\n",
    "    \n",
    "    outliers = find_num_of_outliers(images, best_autoencoder)\n",
    "    \n",
    "    if outliers > outlier_threshold:\n",
    "        best_autoencoder = Autoencoder(input_dims=28*28, code_dims=300)\n",
    "        for epoch in range(5):\n",
    "            best_autoencoder.optimize_params(images, images)\n",
    "        auto_list[len(auto_list)] = best_autoencoder\n",
    "        #to-do add new expert\n",
    "    else:\n",
    "        best_autoencoder.optimize_params(images, images)\n",
    "        #to-do train exsisting expert\n",
    "        \n",
    "    sampleImage, _, _ = next(iter(permute_train_loaders[2]))\n",
    "    sampleOutliers = find_num_of_outliers(sampleImage, best_autoencoder)\n",
    "    print(outliers, sampleOutliers)\n"
   ]
  },
  {
   "cell_type": "code",
   "execution_count": 87,
   "id": "ccc2b217-9459-4d2e-99f3-c8477f6902d0",
   "metadata": {
    "tags": []
   },
   "outputs": [],
   "source": [
    "BATCH_SIZE = 60"
   ]
  },
  {
   "cell_type": "code",
   "execution_count": 95,
   "id": "b5e39030-cd78-4235-baff-24889c6bcf46",
   "metadata": {
    "tags": []
   },
   "outputs": [],
   "source": [
    "train_loader = get_conbined_permute_mnist(NUM_TASK, BATCH_SIZE, RANDOM_SEED)"
   ]
  },
  {
   "cell_type": "code",
   "execution_count": 113,
   "id": "3ca3edde-3a2f-4bf2-8d7b-aa18726266a1",
   "metadata": {},
   "outputs": [
    {
     "data": {
      "image/png": "[encoded data removed]",
      "text/plain": [
       "<Figure size 640x480 with 1 Axes>"
      ]
     },
     "metadata": {},
     "output_type": "display_data"
    }
   ],
   "source": [
    "images, labels, _ = next(iter(train_loader))\n",
    "image = images[0].cpu().detach().numpy().reshape((28,28))\n",
    "plt.imshow(image) # Plot the 28x28 image\n",
    "plt.show()"
   ]
  },
  {
   "cell_type": "code",
   "execution_count": 108,
   "id": "f1570836-4a75-4c3e-b434-60b410f368f4",
   "metadata": {
    "tags": []
   },
   "outputs": [],
   "source": [
    "#5 tasks - 400 training epoches\n",
    "NEW_AUTOENCODER_EPOCH = 700\n",
    "TRAIN_AUTOENCODER_EPOCH = 10\n",
    "CODE_DIM = 200"
   ]
  },
  {
   "cell_type": "code",
   "execution_count": 114,
   "id": "27e61436-4906-4b00-a353-57b8947faa5e",
   "metadata": {
    "tags": []
   },
   "outputs": [
    {
     "name": "stdout",
     "output_type": "stream",
     "text": [
      "[new @ batch 0] autoencoder at 0 for index: 3\n",
      "[new @ batch 1] autoencoder at 1 for index: 15\n",
      "[new @ batch 2] autoencoder at 2 for index: 18\n",
      "[new @ batch 3] autoencoder at 3 for index: 17\n",
      "[new @ batch 4] autoencoder at 4 for index: 2\n",
      "[new @ batch 5] autoencoder at 5 for index: 13\n",
      "[new @ batch 6] autoencoder at 6 for index: 5\n",
      "[new @ batch 8] autoencoder at 7 for index: 11\n",
      "[new @ batch 10] autoencoder at 8 for index: 16\n",
      "[new @ batch 11] autoencoder at 9 for index: 12\n",
      "[new @ batch 14] autoencoder at 10 for index: 0\n",
      "[new @ batch 15] autoencoder at 11 for index: 14\n",
      "[new @ batch 19] autoencoder at 12 for index: 19\n",
      "[new @ batch 22] autoencoder at 13 for index: 9\n",
      "[new @ batch 34] autoencoder at 14 for index: 10\n",
      "[new @ batch 40] autoencoder at 15 for index: 4\n",
      "[new @ batch 42] autoencoder at 16 for index: 6\n",
      "[new @ batch 44] autoencoder at 17 for index: 7\n",
      "[new @ batch 45] autoencoder at 18 for index: 8\n",
      "[new @ batch 84] autoencoder at 19 for index: 1\n"
     ]
    }
   ],
   "source": [
    "auto_list = {}\n",
    "expert_list = {}\n",
    "\n",
    "outlier_threshold = 0.003*BATCH_SIZE\n",
    "\n",
    "#debug\n",
    "record = {}\n",
    "\n",
    "for i, data in enumerate(train_loader):\n",
    "    images, labels, indicies = data\n",
    "    \n",
    "    #initial \n",
    "    if len(auto_list)==0:\n",
    "        #debug\n",
    "        print(f\"[new @ batch {i}] autoencoder at {len(auto_list)} for index: {indicies[0].item()}\")\n",
    "        record[indicies[0].item()] = len(auto_list)\n",
    "        \n",
    "        #initial autoencoder\n",
    "        new_autoencoder = Autoencoder(input_dims=28*28, code_dims=CODE_DIM)\n",
    "        for epoch in range(NEW_AUTOENCODER_EPOCH):\n",
    "            new_autoencoder.optimize_params(images, images)\n",
    "        auto_list[len(auto_list)] = new_autoencoder\n",
    "        \n",
    "        #to-do add initial expert\n",
    "        \n",
    "        continue\n",
    "    \n",
    "    #find best autoencoder\n",
    "    best_index = find_best_autoencoders(images, auto_list)\n",
    "    best_autoencoder = auto_list[best_index]\n",
    "    \n",
    "    #calculate outliers\n",
    "    outliers = find_num_of_outliers(images, best_autoencoder)\n",
    "    #print(f\"outliers for best autoencoders {best_index}: {outliers}\")\n",
    "    \n",
    "    if outliers > outlier_threshold:\n",
    "        #debug\n",
    "        print(f\"[new @ batch {i}] autoencoder at {len(auto_list)} for index: {indicies[0].item()}\")\n",
    "        if indicies[0].item() in record:\n",
    "            print(\"error\")\n",
    "        else:\n",
    "            record[indicies[0].item()] = len(auto_list)\n",
    "        \n",
    "        #add new autoencoder\n",
    "        best_autoencoder = Autoencoder(input_dims=28*28, code_dims=CODE_DIM)\n",
    "        for epoch in range(NEW_AUTOENCODER_EPOCH):\n",
    "            best_autoencoder.optimize_params(images, images)\n",
    "        auto_list[len(auto_list)] = best_autoencoder\n",
    "        \n",
    "        #to-do add new expert\n",
    "        \n",
    "    else:\n",
    "        #debug\n",
    "        #print(f\"training autoencoder at {best_index} with index: {indicies[0].item()}\")\n",
    "        if not indicies[0].item() in record or record[indicies[0].item()] != best_index:\n",
    "            print(f\"[error @ batch {i}] training autoencoder at {best_index} with index: {indicies[0].item()}\")\n",
    "        \n",
    "        #train best autoencoder\n",
    "        for epoch in range(TRAIN_AUTOENCODER_EPOCH):\n",
    "            best_autoencoder.optimize_params(images, images)\n",
    "        \n",
    "        #to-do train exsisting expert\n",
    "    \n",
    "\n",
    "    "
   ]
  },
  {
   "cell_type": "code",
   "execution_count": null,
   "id": "c8aa0f79-863e-4dcc-a281-aafecef8920e",
   "metadata": {},
   "outputs": [],
   "source": []
  }
 ],
 "metadata": {
  "kernelspec": {
   "display_name": "Python 3 (ipykernel)",
   "language": "python",
   "name": "python3"
  },
  "language_info": {
   "codemirror_mode": {
    "name": "ipython",
    "version": 3
   },
   "file_extension": ".py",
   "mimetype": "text/x-python",
   "name": "python",
   "nbconvert_exporter": "python",
   "pygments_lexer": "ipython3",
   "version": "3.10.13"
  }
 },
 "nbformat": 4,
 "nbformat_minor": 5
}
