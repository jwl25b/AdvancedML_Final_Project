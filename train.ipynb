{
 "cells": [
  {
   "cell_type": "code",
   "execution_count": 1,
   "id": "f0140dc6-4050-48ed-bd27-aa8b2018440e",
   "metadata": {
    "tags": []
   },
   "outputs": [],
   "source": [
    "from dataloader_utils import get_conbined_permute_mnist\n",
    "from autoencoder import Autoencoder\n",
    "from autoencoder_utils import * \n",
    "\n",
    "import numpy as np\n"
   ]
  },
  {
   "cell_type": "code",
   "execution_count": 92,
   "id": "ef4bb148-9d53-4308-b9db-920f96da7756",
   "metadata": {
    "tags": []
   },
   "outputs": [],
   "source": [
    "RANDOM_SEED = np.random.randint(100)\n",
    "#RANDOM_SEED = 42\n",
    "\n",
    "NUM_TASK = 20\n",
    "BATCH_SIZE = 120\n",
    "\n",
    "\n",
    "OUTLIER_THRESHOLD = 0.1*BATCH_SIZE\n",
    "NEW_AUTOENCODER_EPOCH = 800\n",
    "TRAIN_AUTOENCODER_EPOCH = 100\n",
    "CODE_DIM = 300"
   ]
  },
  {
   "cell_type": "code",
   "execution_count": null,
   "id": "df4aefd5-f413-4999-8c5d-1b538f1e86ed",
   "metadata": {
    "tags": []
   },
   "outputs": [],
   "source": [
    "train_loader, test_loader = get_conbined_permute_mnist(NUM_TASK, BATCH_SIZE, RANDOM_SEED)"
   ]
  },
  {
   "cell_type": "code",
   "execution_count": null,
   "id": "3c5739fe-a53c-4055-bcd9-548f5091ad67",
   "metadata": {
    "tags": []
   },
   "outputs": [],
   "source": [
    "auto_list = {}\n",
    "expert_list = {}\n",
    "\n",
    "#debug\n",
    "record = {}\n",
    "\n",
    "for i, data in enumerate(train_loader):\n",
    "    images, labels, indicies = data\n",
    "    \n",
    "    #initial \n",
    "    if len(auto_list)==0:\n",
    "        #debug\n",
    "        print(f\"[new @ batch {i}] autoencoder at {len(auto_list)} for index: {indicies[0].item()}\")\n",
    "        record[indicies[0].item()] = len(auto_list)\n",
    "        \n",
    "        #initial autoencoder\n",
    "        new_autoencoder = Autoencoder(input_dims=28*28, code_dims=CODE_DIM)\n",
    "        for epoch in range(NEW_AUTOENCODER_EPOCH):\n",
    "            new_autoencoder.optimize_params(images, images)\n",
    "        auto_list[len(auto_list)] = new_autoencoder\n",
    "        \n",
    "        #to-do add initial expert\n",
    "        \n",
    "        continue\n",
    "    \n",
    "    #find best autoencoder\n",
    "    best_index = find_best_autoencoders(images, auto_list)\n",
    "    best_autoencoder = auto_list[best_index]\n",
    "    \n",
    "    #calculate outliers\n",
    "    outliers = find_num_of_outliers(images, best_autoencoder)\n",
    "    #print(f\"outliers for best autoencoders {best_index}: {outliers}\")\n",
    "    \n",
    "    if outliers > OUTLIER_THRESHOLD:\n",
    "        #debug\n",
    "        print(f\"[new @ batch {i}] autoencoder at {len(auto_list)} for index: {indicies[0].item()}\")\n",
    "        if indicies[0].item() in record:\n",
    "            print(f\"[error @ batch {i}] autoencoder exists but initialized a new one\")\n",
    "        else:\n",
    "            record[indicies[0].item()] = len(auto_list)\n",
    "        \n",
    "        #add new autoencoder\n",
    "        best_autoencoder = Autoencoder(input_dims=28*28, code_dims=CODE_DIM)\n",
    "        for epoch in range(NEW_AUTOENCODER_EPOCH):\n",
    "            best_autoencoder.optimize_params(images, images)\n",
    "        auto_list[len(auto_list)] = best_autoencoder\n",
    "        \n",
    "        #to-do add new expert\n",
    "        \n",
    "    else:\n",
    "        #debug\n",
    "        #print(f\"training autoencoder at {best_index} with index: {indicies[0].item()}\")\n",
    "        if not indicies[0].item() in record or record[indicies[0].item()] != best_index:\n",
    "            print(f\"[error @ batch {i}] training autoencoder at {best_index} with index: {indicies[0].item()}\")\n",
    "        \n",
    "        #train best autoencoder\n",
    "        for epoch in range(TRAIN_AUTOENCODER_EPOCH):\n",
    "            best_autoencoder.optimize_params(images, images)\n",
    "        \n",
    "        #to-do train exsisting expert"
   ]
  },
  {
   "cell_type": "code",
   "execution_count": null,
   "id": "0c74dcab-f693-4e41-9547-873fb04bd519",
   "metadata": {},
   "outputs": [],
   "source": []
  }
 ],
 "metadata": {
  "kernelspec": {
   "display_name": "Python 3 (ipykernel)",
   "language": "python",
   "name": "python3"
  },
  "language_info": {
   "codemirror_mode": {
    "name": "ipython",
    "version": 3
   },
   "file_extension": ".py",
   "mimetype": "text/x-python",
   "name": "python",
   "nbconvert_exporter": "python",
   "pygments_lexer": "ipython3",
   "version": "3.10.13"
  }
 },
 "nbformat": 4,
 "nbformat_minor": 5
}
